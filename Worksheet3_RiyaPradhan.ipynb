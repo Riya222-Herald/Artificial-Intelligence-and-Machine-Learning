{
  "nbformat": 4,
  "nbformat_minor": 0,
  "metadata": {
    "colab": {
      "provenance": []
    },
    "kernelspec": {
      "name": "python3",
      "display_name": "Python 3"
    },
    "language_info": {
      "name": "python"
    }
  },
  "cells": [
    {
      "cell_type": "markdown",
      "source": [
        "# Worksheet 3"
      ],
      "metadata": {
        "id": "Sb85Jll9MAMX"
      }
    },
    {
      "cell_type": "markdown",
      "source": [
        "# Implementation of MCP Neuron for AND and OR Function."
      ],
      "metadata": {
        "id": "IY-_Zy_b71lD"
      }
    },
    {
      "cell_type": "markdown",
      "source": [
        "# For ”AND” Operations."
      ],
      "metadata": {
        "id": "UhXm6RaBai5l"
      }
    },
    {
      "cell_type": "code",
      "source": [
        "def MCP_Neurons_AND(X1, X2, T):\n",
        "  \"\"\"\n",
        "  This functions implements basic AND operations with MCP Neuron for two inputs.\n",
        "  Arguments:\n",
        "  Inputs:\n",
        "  X1 (1 nd array): An array of binary values.\n",
        "  X2 (1 nd array): An array of binary values.\n",
        "  Output:\n",
        "  state_neuron(1D-list): An state of neuron 1 0r 0 for the particular inputs.\n",
        "  \"\"\"\n",
        "  assert len(X1) == len(X2)\n",
        "  ### YOUR CODE HERE ###\n",
        "  # Perform an element wise addition of two input arrays stored in a new array(list):\n",
        "  # Create a new array to put all the prediction let's name that a state_neuron.\n",
        "  # Append 1 in sate_neuron if sum (element) of above list is above Threshold else append 0.\n",
        "  state_neuron = []\n",
        "\n",
        "  for x1, x2 in zip(X1, X2):\n",
        "      # Aggregate inputs (sum of two inputs)\n",
        "      aggregate = x1 + x2\n",
        "\n",
        "      # Apply threshold to determine the output\n",
        "      if aggregate >= T:\n",
        "          state_neuron.append(1)\n",
        "      else:\n",
        "          state_neuron.append(0)\n",
        "  return state_neuron"
      ],
      "metadata": {
        "id": "Fu-YDOe_8GJi"
      },
      "execution_count": 35,
      "outputs": []
    },
    {
      "cell_type": "code",
      "source": [
        "# Example usage for MCP_Neurons_AND function\n",
        "X1 = [0, 0, 1, 1]\n",
        "X2 = [0, 1, 0, 1]\n",
        "T = 2  # Threshold value\n",
        "\n",
        "# Call the MCP_Neurons_AND function\n",
        "result = MCP_Neurons_AND(X1, X2, T)\n",
        "\n",
        "# Print the result\n",
        "print(f\"Output of AND gate for inputs {X1} and {X2} with threshold {T}: {result}\")\n"
      ],
      "metadata": {
        "colab": {
          "base_uri": "https://localhost:8080/"
        },
        "id": "e2-lKfat8ocN",
        "outputId": "c336c668-341d-4913-9a98-3d125584e6cc"
      },
      "execution_count": 48,
      "outputs": [
        {
          "output_type": "stream",
          "name": "stdout",
          "text": [
            "Output of AND gate for inputs [0, 0, 1, 1] and [0, 1, 0, 1] with threshold 2: [0, 0, 0, 1]\n"
          ]
        }
      ]
    },
    {
      "cell_type": "markdown",
      "source": [
        "# For ”OR” Operations."
      ],
      "metadata": {
        "id": "-Xs1AIPKalsZ"
      }
    },
    {
      "cell_type": "code",
      "source": [
        "def MCP_Neurons_OR(X1, X2, T):\n",
        "    \"\"\"\n",
        "    This function implements basic OR operations with MCP Neuron for two inputs.\n",
        "    Arguments:\n",
        "    Inputs:\n",
        "    X1 (1D array): An array of binary values.\n",
        "    X2 (1D array): An array of binary values.\n",
        "    Output:\n",
        "    state_neuron (1D list): The state of the neuron (1 or 0) for the particular inputs.\n",
        "    \"\"\"\n",
        "    assert len(X1) == len(X2)\n",
        "    ### YOUR CODE HERE ###\n",
        "    # Perform an element wise addition of two input arrays stored in a new array(list):\n",
        "    # Create a new array to put all the prediction let's name that a state_neuron.\n",
        "    # Append 1 in sate_neuron if sum (element) of above list is above Threshold else append 0.\n",
        "    state_neuron = []\n",
        "\n",
        "    for x1, x2 in zip(X1, X2):\n",
        "        # Aggregate inputs (sum of two inputs)\n",
        "        aggregate = x1 + x2\n",
        "\n",
        "        # Apply threshold to determine the output\n",
        "        if aggregate >= T:\n",
        "            state_neuron.append(1)\n",
        "        else:\n",
        "            state_neuron.append(0)\n",
        "\n",
        "    return state_neuron\n"
      ],
      "metadata": {
        "id": "7xaMXlLT9FHC"
      },
      "execution_count": 49,
      "outputs": []
    },
    {
      "cell_type": "code",
      "source": [
        "# Example usage for MCP_Neurons_OR function\n",
        "X1 = [0, 0, 1, 1]\n",
        "X2 = [0, 1, 0, 1]\n",
        "T = 1  # Threshold value for OR gate\n",
        "\n",
        "# Call the MCP_Neurons_OR function\n",
        "result_or = MCP_Neurons_OR(X1, X2, T)\n",
        "\n",
        "# Print the result\n",
        "print(f\"Output of OR gate for inputs {X1} and {X2} with threshold {T}: {result_or}\")\n"
      ],
      "metadata": {
        "colab": {
          "base_uri": "https://localhost:8080/"
        },
        "id": "6H-YOy268_Jo",
        "outputId": "00f7e80c-d0fb-456d-de93-364dbec7a62b"
      },
      "execution_count": 50,
      "outputs": [
        {
          "output_type": "stream",
          "name": "stdout",
          "text": [
            "Output of OR gate for inputs [0, 0, 1, 1] and [0, 1, 0, 1] with threshold 1: [0, 1, 1, 1]\n"
          ]
        }
      ]
    },
    {
      "cell_type": "markdown",
      "source": [
        "# Answer the Following Question:"
      ],
      "metadata": {
        "id": "wDobJ-HZblpr"
      }
    },
    {
      "cell_type": "markdown",
      "source": [
        "• Question - 1: List out all the limitations of MCP - Neurons.\n",
        "\n",
        "MCP Neurons have several limitations: They can only solve linearly separable problems (e.g. AND, OR) but fail with non-linear functions like XOR. They lack learning capabilities as weights and thresholds are manually set. Inputs and outputs are strictly binary making them unsuitable for continuous data. They don’t support weighted inputs or activation functions relying solely on thresholding. So, they are single-layer models limiting their computational power and adaptability.\n",
        "\n",
        "• Question - 2: Think if you can develop a logic to solve for XOR function using MCP Neuron.\n",
        "{Can you devise a if else rules.}\n",
        "\n",
        "An MCP Neuron cannot solve XOR alone due to its inability to handle non-linear functions. However XOR can be implemented using a combination of neurons performing simple operations: OR, AND, and NAND (NOT AND). The XOR function is computed as:\n",
        "\n",
        "XOR\n",
        "=\n",
        "(\n",
        "X1 OR X2\n",
        ")\n",
        " AND NOT\n",
        "(\n",
        "X1 AND X2\n",
        ")\n",
        "XOR=(X1 OR X2) AND NOT(X1 AND X2)\n",
        "This approach shows that XOR can be solved by combining multiple MCP Neurons with specific rules."
      ],
      "metadata": {
        "id": "aI-jH2zTboxa"
      }
    },
    {
      "cell_type": "markdown",
      "source": [
        "# Implementation for 0 Vs. 1 Classification."
      ],
      "metadata": {
        "id": "Apa9bfLIFJHe"
      }
    },
    {
      "cell_type": "code",
      "source": [
        "from google.colab import drive\n",
        "drive.mount('/content/drive')"
      ],
      "metadata": {
        "colab": {
          "base_uri": "https://localhost:8080/"
        },
        "id": "2nEBJhRXdfrH",
        "outputId": "7dde5e34-fe35-4b61-df6a-1befbc9a9c07"
      },
      "execution_count": 51,
      "outputs": [
        {
          "output_type": "stream",
          "name": "stdout",
          "text": [
            "Drive already mounted at /content/drive; to attempt to forcibly remount, call drive.mount(\"/content/drive\", force_remount=True).\n"
          ]
        }
      ]
    },
    {
      "cell_type": "markdown",
      "source": [
        "## Step 1: Load the Dataset"
      ],
      "metadata": {
        "id": "iom83mGLFP_1"
      }
    },
    {
      "cell_type": "code",
      "source": [
        "import pandas as pd\n",
        "import numpy as np\n",
        "import matplotlib.pyplot as plt\n",
        "\n",
        "\n",
        "# Load the dataset\n",
        "df_0_1 = pd.read_csv(\"/content/drive/MyDrive/AI ML Workshops and tutorials/week 3/mnist_0_and_1.csv\")  # Add the correct file path if necessary\n",
        "\n",
        "# Extract features and labels\n",
        "X = df_0_1.drop(columns=[\"label\"]).values  # 784 pixels\n",
        "y = df_0_1[\"label\"].values  # Labels (0 or 1)\n",
        "\n",
        "# Check the shape of the features and labels\n",
        "print(\"Feature matrix shape:\", X.shape)\n",
        "print(\"Label vector shape:\", y.shape)\n"
      ],
      "metadata": {
        "colab": {
          "base_uri": "https://localhost:8080/"
        },
        "id": "7rkW58ct9IYq",
        "outputId": "59a868c2-4309-44c1-94ff-6e1d53b33ef7"
      },
      "execution_count": 52,
      "outputs": [
        {
          "output_type": "stream",
          "name": "stdout",
          "text": [
            "Feature matrix shape: (12665, 784)\n",
            "Label vector shape: (12665,)\n"
          ]
        }
      ]
    },
    {
      "cell_type": "markdown",
      "source": [
        "Answer the Following Question:\n",
        "1. Question - 1: What does the shape of X represent?\n",
        "\n",
        "The shape of X is (12665, 784), which means it is a feature matrix with 12,665 samples (rows) and 784 features (columns). Each sample represents a flattened 28x28 grayscale image of a handwritten digit (0 or 1) where each pixel value is stored as a single element in the row.\n",
        "\n",
        "\n",
        "2. Question - 2: What does the shape of X represent?\n",
        "\n",
        "The shape of X represents a dataset where each row corresponds to a single image converted into a 784-dimensional vector (flattened from 28x28 pixels). This matrix is used as input for machine learning models to classify digits 0 and 1."
      ],
      "metadata": {
        "id": "QGIJKFikeGnO"
      }
    },
    {
      "cell_type": "markdown",
      "source": [
        "### Viewing the Dataset."
      ],
      "metadata": {
        "id": "jlq0EY2jHheD"
      }
    },
    {
      "cell_type": "code",
      "source": [
        "# Separate images for label 0 and label 1\n",
        "images_0 = X[y == 0]  # Get all images with label 0\n",
        "images_1 = X[y == 1]  # Get all images with label 1\n",
        "\n",
        "fig, axes = plt.subplots(2, 5, figsize=(10, 5))\n",
        "\n",
        "# Check if the arrays have the required amount of data\n",
        "if len(images_0) < 5 or len(images_1) < 5:\n",
        "    print(\"Error: Not enough images in images_0 or images_1 to plot 5 images.\")\n",
        "else:\n",
        "    for i in range(5):\n",
        "        # Plot digit 0\n",
        "        axes[0, i].imshow(images_0[i].reshape(28, 28), cmap=\"gray\")\n",
        "        axes[0, i].set_title(\"Label: 0\")\n",
        "        axes[0, i].axis(\"off\")\n",
        "        # Plot digit 1\n",
        "        axes[1, i].imshow(images_1[i].reshape(28, 28), cmap=\"gray\")\n",
        "        axes[1, i].set_title(\"Label: 1\")\n",
        "        axes[1, i].axis(\"off\")\n",
        "    plt.suptitle(\"First 5 Images of 0 and 1 from MNIST Subset\")\n",
        "    plt.show()"
      ],
      "metadata": {
        "colab": {
          "base_uri": "https://localhost:8080/",
          "height": 369
        },
        "id": "XKY2qjhCHAZ7",
        "outputId": "64d8168b-d892-441b-bea9-225289732c13"
      },
      "execution_count": 53,
      "outputs": [
        {
          "output_type": "display_data",
          "data": {
            "text/plain": [
              "<Figure size 1000x500 with 10 Axes>"
            ],
            "image/png": "[encoded data removed]"
          },
          "metadata": {}
        }
      ]
    },
    {
      "cell_type": "markdown",
      "source": [
        "## Step - 2 - Initializing the Weights:"
      ],
      "metadata": {
        "id": "qyM34tbHIqGi"
      }
    },
    {
      "cell_type": "code",
      "source": [
        "# Initialize weights and bias\n",
        "weights = np.zeros(X.shape[1])  # 784 weights (one for each pixel)\n",
        "bias = 0\n",
        "learning_rate = 0.1\n",
        "epochs = 100"
      ],
      "metadata": {
        "id": "SMsXaZ38HfBI"
      },
      "execution_count": 54,
      "outputs": []
    },
    {
      "cell_type": "markdown",
      "source": [
        "Answer the Following Question:\n",
        "\n",
        "1. Question - 3: What does the weights array represent in this context?\n",
        "\n",
        "The weights array represents the model parameters for the features (pixels) in the dataset. Since each image is represented by 784 pixels the weights array has 784 elements where each element corresponds to the weight associated with one pixel. These weights will determine the influence of each pixel on the model's output during the prediction and training process.\n",
        "\n",
        "2. Question - 4: Why are we initializing the weights to zero? What effect could this\n",
        "have on the training process?\n",
        "\n",
        "We initialize the weights to zero to start with neutral values, ensuring no pixel has a stronger initial influence on the output. While this approach is simple it can cause symmetry issues during training where all weights update similarly slowing down learning.\n"
      ],
      "metadata": {
        "id": "txVYA3hsel9z"
      }
    },
    {
      "cell_type": "markdown",
      "source": [
        "## Step - 3 - Make a Decision function:"
      ],
      "metadata": {
        "id": "EvraDxaeRVeo"
      }
    },
    {
      "cell_type": "code",
      "source": [
        "import numpy as np\n",
        "\n",
        "def decision_function(X, weights, bias):\n",
        "    \"\"\"\n",
        "    Compute the predicted labels for the input data.\n",
        "\n",
        "    Parameters:\n",
        "    - X: Features (input data) as a numpy array of shape (n_samples, n_features)\n",
        "    - weights: Updated weights after training\n",
        "    - bias: Updated bias after training\n",
        "\n",
        "    Returns:\n",
        "    - y_pred_all: The predicted labels for the input data\n",
        "    \"\"\"\n",
        "    predictions = np.dot(X, weights) + bias\n",
        "    #####Your Code Here############  # Activation function (step function)\n",
        "    y_pred_all = np.where(predictions >= 0, 1, 0)\n",
        "\n",
        "    return y_pred_all"
      ],
      "metadata": {
        "id": "6uVj75txLWQi"
      },
      "execution_count": 55,
      "outputs": []
    },
    {
      "cell_type": "markdown",
      "source": [
        "## Step - 3 - Implement the Perceptron Learning Algorithm"
      ],
      "metadata": {
        "id": "AVZNGyRdI4I4"
      }
    },
    {
      "cell_type": "code",
      "source": [
        "def train_perceptron(X, y, weights, bias, learning_rate=0.1, epochs=100):\n",
        "    \"\"\"\n",
        "    Train the perceptron using the Perceptron Learning Algorithm.\n",
        "\n",
        "    Parameters:\n",
        "    - X: Features (input data) as a numpy array of shape (n_samples, n_features)\n",
        "    - y: Labels (true output) as a numpy array of shape (n_samples,)\n",
        "    - weights: Initial weights as a numpy array of shape (n_features,)\n",
        "    - bias: Initial bias value (scalar)\n",
        "    - learning_rate: Learning rate for weight updates (default is 0.1)\n",
        "    - epochs: Number of iterations to train the model (default is 100)\n",
        "\n",
        "    Returns:\n",
        "    - weights: Updated weights after training\n",
        "    - bias: Updated bias after training\n",
        "    - accuracy: Total correct prediction.\n",
        "    \"\"\"\n",
        "    # Step 3: Perceptron Learning Algorithm\n",
        "    # Your Code here#\n",
        "    for epoch in range(epochs):\n",
        "        correct_predictions = 0\n",
        "\n",
        "        for i in range(len(X)):\n",
        "            prediction = decision_function(X[i:i+1], weights, bias)\n",
        "            if prediction != y[i]:\n",
        "                weights += learning_rate * (y[i] - prediction) * X[i]\n",
        "                bias += learning_rate * (y[i] - prediction)\n",
        "            else:\n",
        "                correct_predictions += 1\n",
        "        accuracy = (correct_predictions / len(X)) * 100\n",
        "        print(f\"Epoch {epoch+1}/{epochs}, Accuracy: {accuracy:.2f}%\")\n",
        "\n",
        "    return weights, bias, accuracy"
      ],
      "metadata": {
        "id": "Dg1ocrycJWpA"
      },
      "execution_count": 56,
      "outputs": []
    },
    {
      "cell_type": "markdown",
      "source": [
        "Answer the Following Question:\n",
        "1. Question - 5: What is the purpose of the output = np.dot(X[i], weights) + bias line?\n",
        "\n",
        "The line output = np.dot(X[i], weights) + bias computes the weighted sum of the inputs (X[i]) and adds the bias term. This value represents the linear combination of the inputs and model parameters (weights and bias). This is the input to the activation function (such as the step function) that decides the final prediction of the perceptron.\n",
        "\n",
        "2. Question - 6: What happens when the prediction is wrong? How are the weights and\n",
        "bias updated?\n",
        "\n",
        "When the prediction is incorrect the weights and bias are adjusted to reduce the error.\n",
        "\n",
        "3. Question - 7:Why is the final accuracy important, and what do you expect it to be?\n",
        "\n",
        "The final accuracy is crucial as it indicates how well the perceptron has learned to classify the data. It reflects the model's effectiveness and should ideally improve during training.For linearly separable data accuracy may reach 100% while more complex data may result in lower accuracy."
      ],
      "metadata": {
        "id": "z8QUoD5xgIxP"
      }
    },
    {
      "cell_type": "markdown",
      "source": [
        "## Training the Perceptron"
      ],
      "metadata": {
        "id": "Va6AGI6iMAG9"
      }
    },
    {
      "cell_type": "code",
      "source": [
        "# After training the model with the perceptron_learning_algorithm\n",
        "weights, bias, accuracy = train_perceptron(X, y, weights, bias)\n",
        "\n",
        "# Evaluate the model using the new function\n",
        "print(\"The Final Accuracy is: \", accuracy)"
      ],
      "metadata": {
        "colab": {
          "base_uri": "https://localhost:8080/"
        },
        "id": "cn8XBYuZLswI",
        "outputId": "ceba10ad-9d1e-48eb-db15-645576049d0d"
      },
      "execution_count": 57,
      "outputs": [
        {
          "output_type": "stream",
          "name": "stdout",
          "text": [
            "Epoch 1/100, Accuracy: 99.67%\n",
            "Epoch 2/100, Accuracy: 99.82%\n",
            "Epoch 3/100, Accuracy: 99.87%\n",
            "Epoch 4/100, Accuracy: 99.87%\n",
            "Epoch 5/100, Accuracy: 99.90%\n",
            "Epoch 6/100, Accuracy: 99.93%\n",
            "Epoch 7/100, Accuracy: 99.98%\n",
            "Epoch 8/100, Accuracy: 99.95%\n",
            "Epoch 9/100, Accuracy: 99.89%\n",
            "Epoch 10/100, Accuracy: 99.92%\n",
            "Epoch 11/100, Accuracy: 99.95%\n",
            "Epoch 12/100, Accuracy: 99.98%\n",
            "Epoch 13/100, Accuracy: 100.00%\n",
            "Epoch 14/100, Accuracy: 100.00%\n",
            "Epoch 15/100, Accuracy: 100.00%\n",
            "Epoch 16/100, Accuracy: 100.00%\n",
            "Epoch 17/100, Accuracy: 100.00%\n",
            "Epoch 18/100, Accuracy: 100.00%\n",
            "Epoch 19/100, Accuracy: 100.00%\n",
            "Epoch 20/100, Accuracy: 100.00%\n",
            "Epoch 21/100, Accuracy: 100.00%\n",
            "Epoch 22/100, Accuracy: 100.00%\n",
            "Epoch 23/100, Accuracy: 100.00%\n",
            "Epoch 24/100, Accuracy: 100.00%\n",
            "Epoch 25/100, Accuracy: 100.00%\n",
            "Epoch 26/100, Accuracy: 100.00%\n",
            "Epoch 27/100, Accuracy: 100.00%\n",
            "Epoch 28/100, Accuracy: 100.00%\n",
            "Epoch 29/100, Accuracy: 100.00%\n",
            "Epoch 30/100, Accuracy: 100.00%\n",
            "Epoch 31/100, Accuracy: 100.00%\n",
            "Epoch 32/100, Accuracy: 100.00%\n",
            "Epoch 33/100, Accuracy: 100.00%\n",
            "Epoch 34/100, Accuracy: 100.00%\n",
            "Epoch 35/100, Accuracy: 100.00%\n",
            "Epoch 36/100, Accuracy: 100.00%\n",
            "Epoch 37/100, Accuracy: 100.00%\n",
            "Epoch 38/100, Accuracy: 100.00%\n",
            "Epoch 39/100, Accuracy: 100.00%\n",
            "Epoch 40/100, Accuracy: 100.00%\n",
            "Epoch 41/100, Accuracy: 100.00%\n",
            "Epoch 42/100, Accuracy: 100.00%\n",
            "Epoch 43/100, Accuracy: 100.00%\n",
            "Epoch 44/100, Accuracy: 100.00%\n",
            "Epoch 45/100, Accuracy: 100.00%\n",
            "Epoch 46/100, Accuracy: 100.00%\n",
            "Epoch 47/100, Accuracy: 100.00%\n",
            "Epoch 48/100, Accuracy: 100.00%\n",
            "Epoch 49/100, Accuracy: 100.00%\n",
            "Epoch 50/100, Accuracy: 100.00%\n",
            "Epoch 51/100, Accuracy: 100.00%\n",
            "Epoch 52/100, Accuracy: 100.00%\n",
            "Epoch 53/100, Accuracy: 100.00%\n",
            "Epoch 54/100, Accuracy: 100.00%\n",
            "Epoch 55/100, Accuracy: 100.00%\n",
            "Epoch 56/100, Accuracy: 100.00%\n",
            "Epoch 57/100, Accuracy: 100.00%\n",
            "Epoch 58/100, Accuracy: 100.00%\n",
            "Epoch 59/100, Accuracy: 100.00%\n",
            "Epoch 60/100, Accuracy: 100.00%\n",
            "Epoch 61/100, Accuracy: 100.00%\n",
            "Epoch 62/100, Accuracy: 100.00%\n",
            "Epoch 63/100, Accuracy: 100.00%\n",
            "Epoch 64/100, Accuracy: 100.00%\n",
            "Epoch 65/100, Accuracy: 100.00%\n",
            "Epoch 66/100, Accuracy: 100.00%\n",
            "Epoch 67/100, Accuracy: 100.00%\n",
            "Epoch 68/100, Accuracy: 100.00%\n",
            "Epoch 69/100, Accuracy: 100.00%\n",
            "Epoch 70/100, Accuracy: 100.00%\n",
            "Epoch 71/100, Accuracy: 100.00%\n",
            "Epoch 72/100, Accuracy: 100.00%\n",
            "Epoch 73/100, Accuracy: 100.00%\n",
            "Epoch 74/100, Accuracy: 100.00%\n",
            "Epoch 75/100, Accuracy: 100.00%\n",
            "Epoch 76/100, Accuracy: 100.00%\n",
            "Epoch 77/100, Accuracy: 100.00%\n",
            "Epoch 78/100, Accuracy: 100.00%\n",
            "Epoch 79/100, Accuracy: 100.00%\n",
            "Epoch 80/100, Accuracy: 100.00%\n",
            "Epoch 81/100, Accuracy: 100.00%\n",
            "Epoch 82/100, Accuracy: 100.00%\n",
            "Epoch 83/100, Accuracy: 100.00%\n",
            "Epoch 84/100, Accuracy: 100.00%\n",
            "Epoch 85/100, Accuracy: 100.00%\n",
            "Epoch 86/100, Accuracy: 100.00%\n",
            "Epoch 87/100, Accuracy: 100.00%\n",
            "Epoch 88/100, Accuracy: 100.00%\n",
            "Epoch 89/100, Accuracy: 100.00%\n",
            "Epoch 90/100, Accuracy: 100.00%\n",
            "Epoch 91/100, Accuracy: 100.00%\n",
            "Epoch 92/100, Accuracy: 100.00%\n",
            "Epoch 93/100, Accuracy: 100.00%\n",
            "Epoch 94/100, Accuracy: 100.00%\n",
            "Epoch 95/100, Accuracy: 100.00%\n",
            "Epoch 96/100, Accuracy: 100.00%\n",
            "Epoch 97/100, Accuracy: 100.00%\n",
            "Epoch 98/100, Accuracy: 100.00%\n",
            "Epoch 99/100, Accuracy: 100.00%\n",
            "Epoch 100/100, Accuracy: 100.00%\n",
            "The Final Accuracy is:  100.0\n"
          ]
        }
      ]
    },
    {
      "cell_type": "markdown",
      "source": [
        "## Step 5: Visualize Misclassified Images"
      ],
      "metadata": {
        "id": "-SLq1jbSMKPm"
      }
    },
    {
      "cell_type": "code",
      "source": [
        "# Get predictions for all data points\n",
        "predictions = np.dot(X, weights) + bias\n",
        "y_pred = np.where(predictions >= 0, 1, 0)\n",
        "\n",
        "# Calculate final accuracy\n",
        "final_accuracy = np.mean(y_pred == y)\n",
        "print(f\"Final Accuracy: {final_accuracy:.4f}\")\n",
        "\n",
        "# Step 5: Visualize Misclassified Images\n",
        "misclassified_idx = np.where(y_pred != y)[0]\n",
        "if len(misclassified_idx) > 0:\n",
        "    fig, axes = plt.subplots(2, 5, figsize=(10, 5))\n",
        "    for ax, idx in zip(axes.flat, misclassified_idx[:10]):  # Show 10 misclassified images\n",
        "        ax.imshow(X[idx].reshape(28, 28), cmap=\"gray\")\n",
        "        ax.set_title(f\"Pred: {y_pred[idx]}, True: {y[idx]}\")\n",
        "        ax.axis(\"off\")\n",
        "    plt.suptitle(\"Misclassified Images\")\n",
        "    plt.show()\n",
        "else:\n",
        "    print(\"All images were correctly classified!\")"
      ],
      "metadata": {
        "colab": {
          "base_uri": "https://localhost:8080/"
        },
        "id": "KAMz1RPGMN_A",
        "outputId": "60ef2ff8-e3f6-416d-8b9c-9b238f11992f"
      },
      "execution_count": 58,
      "outputs": [
        {
          "output_type": "stream",
          "name": "stdout",
          "text": [
            "Final Accuracy: 1.0000\n",
            "All images were correctly classified!\n"
          ]
        }
      ]
    },
    {
      "cell_type": "markdown",
      "source": [
        "Answer the Following Question:\n",
        "1. Question - 8:What does misclassified idx store, and how is it used in this code?\n",
        "\n",
        "misclassified_idx stores the indices of the data points where the predicted labels (y_pred) do not match the true labels (y). It is used to identify the images that the model misclassified. These indices are then used to visualize the misclassified images by selecting and displaying the corresponding images from the dataset.\n",
        "\n",
        "2. Question - 9: How do you interpret the result if the output is ”All images were\n",
        "correctly classified!”?\n",
        "\n",
        "If the output is \"All images were correctly classified!\" it means that the perceptron model successfully predicted the correct labels for all input images in the dataset which means the model achieved perfect accuracy with no misclassifications. This suggests that the model has learned to make accurate predictions on the given data."
      ],
      "metadata": {
        "id": "6LPgVN7mhsuE"
      }
    },
    {
      "cell_type": "markdown",
      "source": [
        "# Perceptron Algorithm for 3 vs 5 Classification."
      ],
      "metadata": {
        "id": "cgs5OBHFiGiu"
      }
    },
    {
      "cell_type": "markdown",
      "source": [
        "1. Implement each Step as we implemented above.\n"
      ],
      "metadata": {
        "id": "7s3YC-HgiJP-"
      }
    },
    {
      "cell_type": "markdown",
      "source": [
        "# Step 1: Load the Dataset"
      ],
      "metadata": {
        "id": "Mk4BuUs-Ek8E"
      }
    },
    {
      "cell_type": "code",
      "source": [
        "import pandas as pd\n",
        "import numpy as np\n",
        "import matplotlib.pyplot as plt\n",
        "\n",
        "# Load the dataset (Ensure the correct file path)\n",
        "df_3_5 = pd.read_csv(\"/content/drive/MyDrive/AI ML Workshops and tutorials/week 3/mnist_3_and_5.csv\")\n",
        "\n",
        "# Extract features and labels\n",
        "X = df_3_5.drop(columns=[\"label\"]).values  # 784 pixels (Flattened images)\n",
        "y = df_3_5[\"label\"].values  # Labels (3 or 5)\n",
        "\n",
        "# Convert labels to binary (3 -> 0, 5 -> 1)\n",
        "y = np.where(y == 3, 0, 1)\n",
        "\n",
        "print(\"Feature matrix shape:\", X.shape)\n",
        "print(\"Label vector shape:\", y.shape)\n",
        "\n"
      ],
      "metadata": {
        "id": "CeEDo-9gNknE",
        "colab": {
          "base_uri": "https://localhost:8080/"
        },
        "outputId": "11438dac-66ba-426d-c5c7-70c297c685cf"
      },
      "execution_count": 59,
      "outputs": [
        {
          "output_type": "stream",
          "name": "stdout",
          "text": [
            "Feature matrix shape: (2741, 784)\n",
            "Label vector shape: (2741,)\n"
          ]
        }
      ]
    },
    {
      "cell_type": "markdown",
      "source": [
        "# Viewing the Dataset"
      ],
      "metadata": {
        "id": "i7UqyH-gFVtK"
      }
    },
    {
      "cell_type": "code",
      "source": [
        "# Separate images for label 3 and label 5\n",
        "images_3 = X[y == 0]  # All images with label 3\n",
        "images_5 = X[y == 1]  # All images with label 5\n",
        "\n",
        "fig, axes = plt.subplots(2, 5, figsize=(10, 5))\n",
        "\n",
        "for i in range(5):\n",
        "    axes[0, i].imshow(images_3[i].reshape(28, 28), cmap=\"gray\")\n",
        "    axes[0, i].set_title(\"Label: 3\")\n",
        "    axes[0, i].axis(\"off\")\n",
        "\n",
        "    axes[1, i].imshow(images_5[i].reshape(28, 28), cmap=\"gray\")\n",
        "    axes[1, i].set_title(\"Label: 5\")\n",
        "    axes[1, i].axis(\"off\")\n",
        "\n",
        "plt.suptitle(\"First 5 Images of 3 and 5 from MNIST Subset\")\n",
        "plt.show()\n"
      ],
      "metadata": {
        "colab": {
          "base_uri": "https://localhost:8080/",
          "height": 369
        },
        "id": "RSyAxbQUFWEB",
        "outputId": "c4364a1e-a93d-4954-8f22-3d99e96749da"
      },
      "execution_count": 60,
      "outputs": [
        {
          "output_type": "display_data",
          "data": {
            "text/plain": [
              "<Figure size 1000x500 with 10 Axes>"
            ],
            "image/png": "[encoded data removed]"
          },
          "metadata": {}
        }
      ]
    },
    {
      "cell_type": "markdown",
      "source": [
        "# Initialize Weights and Bias:"
      ],
      "metadata": {
        "id": "_TmPS9PJNHpX"
      }
    },
    {
      "cell_type": "code",
      "source": [
        "# Initialize weights and bias\n",
        "weights = np.zeros(X.shape[1])  # 784 weights (one for each pixel)\n",
        "bias = 0\n",
        "learning_rate = 0.1\n",
        "epochs = 100"
      ],
      "metadata": {
        "id": "diAJmig2Hd_1"
      },
      "execution_count": 61,
      "outputs": []
    },
    {
      "cell_type": "markdown",
      "source": [
        "# Implement a Decision Function or Activation Function:"
      ],
      "metadata": {
        "id": "6n-oNYUONLI6"
      }
    },
    {
      "cell_type": "code",
      "source": [
        "def decision_function(X, weights, bias):\n",
        "    predictions = np.dot(X, weights) + bias\n",
        "    return np.where(predictions >= 0, 1, 0)"
      ],
      "metadata": {
        "id": "enQItQldHkGl"
      },
      "execution_count": 62,
      "outputs": []
    },
    {
      "cell_type": "markdown",
      "source": [
        "# Implement the Perceptron Learning Algorithm:"
      ],
      "metadata": {
        "id": "HsCI25pNNQlT"
      }
    },
    {
      "cell_type": "code",
      "source": [
        "def train_perceptron(X, y, weights, bias, learning_rate=0.1, epochs=100):\n",
        "    for epoch in range(epochs):\n",
        "        correct_predictions = 0\n",
        "\n",
        "        for i in range(len(X)):\n",
        "            prediction = decision_function(X[i:i+1], weights, bias)\n",
        "            if prediction != y[i]:  # Update weights and bias if incorrect\n",
        "                weights += learning_rate * (y[i] - prediction) * X[i]\n",
        "                bias += learning_rate * (y[i] - prediction)\n",
        "            else:\n",
        "                correct_predictions += 1\n",
        "\n",
        "        accuracy = (correct_predictions / len(X)) * 100\n",
        "        print(f\"Epoch {epoch+1}/{epochs}, Accuracy: {accuracy:.2f}%\")\n",
        "\n",
        "    return weights, bias, accuracy"
      ],
      "metadata": {
        "id": "oQ0Kh-mpHrIs"
      },
      "execution_count": 63,
      "outputs": []
    },
    {
      "cell_type": "markdown",
      "source": [
        "# Training the Perceptron Algorithm:"
      ],
      "metadata": {
        "id": "kAtJuFxvNcKv"
      }
    },
    {
      "cell_type": "code",
      "source": [
        "weights, bias, accuracy = train_perceptron(X, y, weights, bias)\n",
        "print(\"Final Accuracy:\", accuracy)\n"
      ],
      "metadata": {
        "colab": {
          "base_uri": "https://localhost:8080/"
        },
        "id": "6jS-je7IHw0I",
        "outputId": "3a066f28-abd6-4315-f5f5-3a56e75f2745"
      },
      "execution_count": 64,
      "outputs": [
        {
          "output_type": "stream",
          "name": "stdout",
          "text": [
            "Epoch 1/100, Accuracy: 91.57%\n",
            "Epoch 2/100, Accuracy: 93.72%\n",
            "Epoch 3/100, Accuracy: 94.16%\n",
            "Epoch 4/100, Accuracy: 94.75%\n",
            "Epoch 5/100, Accuracy: 94.89%\n",
            "Epoch 6/100, Accuracy: 95.04%\n",
            "Epoch 7/100, Accuracy: 95.99%\n",
            "Epoch 8/100, Accuracy: 95.59%\n",
            "Epoch 9/100, Accuracy: 95.40%\n",
            "Epoch 10/100, Accuracy: 95.66%\n",
            "Epoch 11/100, Accuracy: 95.99%\n",
            "Epoch 12/100, Accuracy: 95.80%\n",
            "Epoch 13/100, Accuracy: 96.57%\n",
            "Epoch 14/100, Accuracy: 96.02%\n",
            "Epoch 15/100, Accuracy: 96.35%\n",
            "Epoch 16/100, Accuracy: 96.57%\n",
            "Epoch 17/100, Accuracy: 96.06%\n",
            "Epoch 18/100, Accuracy: 96.24%\n",
            "Epoch 19/100, Accuracy: 96.10%\n",
            "Epoch 20/100, Accuracy: 96.61%\n",
            "Epoch 21/100, Accuracy: 97.01%\n",
            "Epoch 22/100, Accuracy: 96.90%\n",
            "Epoch 23/100, Accuracy: 97.30%\n",
            "Epoch 24/100, Accuracy: 96.83%\n",
            "Epoch 25/100, Accuracy: 96.50%\n",
            "Epoch 26/100, Accuracy: 97.15%\n",
            "Epoch 27/100, Accuracy: 97.34%\n",
            "Epoch 28/100, Accuracy: 96.94%\n",
            "Epoch 29/100, Accuracy: 97.15%\n",
            "Epoch 30/100, Accuracy: 97.26%\n",
            "Epoch 31/100, Accuracy: 96.68%\n",
            "Epoch 32/100, Accuracy: 97.15%\n",
            "Epoch 33/100, Accuracy: 96.94%\n",
            "Epoch 34/100, Accuracy: 97.41%\n",
            "Epoch 35/100, Accuracy: 97.41%\n",
            "Epoch 36/100, Accuracy: 96.86%\n",
            "Epoch 37/100, Accuracy: 97.34%\n",
            "Epoch 38/100, Accuracy: 97.04%\n",
            "Epoch 39/100, Accuracy: 97.77%\n",
            "Epoch 40/100, Accuracy: 97.19%\n",
            "Epoch 41/100, Accuracy: 97.59%\n",
            "Epoch 42/100, Accuracy: 97.56%\n",
            "Epoch 43/100, Accuracy: 97.30%\n",
            "Epoch 44/100, Accuracy: 97.52%\n",
            "Epoch 45/100, Accuracy: 97.48%\n",
            "Epoch 46/100, Accuracy: 97.74%\n",
            "Epoch 47/100, Accuracy: 97.23%\n",
            "Epoch 48/100, Accuracy: 97.37%\n",
            "Epoch 49/100, Accuracy: 97.08%\n",
            "Epoch 50/100, Accuracy: 97.88%\n",
            "Epoch 51/100, Accuracy: 97.63%\n",
            "Epoch 52/100, Accuracy: 97.63%\n",
            "Epoch 53/100, Accuracy: 97.81%\n",
            "Epoch 54/100, Accuracy: 97.52%\n",
            "Epoch 55/100, Accuracy: 97.41%\n",
            "Epoch 56/100, Accuracy: 97.74%\n",
            "Epoch 57/100, Accuracy: 97.34%\n",
            "Epoch 58/100, Accuracy: 97.96%\n",
            "Epoch 59/100, Accuracy: 97.63%\n",
            "Epoch 60/100, Accuracy: 97.59%\n",
            "Epoch 61/100, Accuracy: 97.52%\n",
            "Epoch 62/100, Accuracy: 97.70%\n",
            "Epoch 63/100, Accuracy: 97.56%\n",
            "Epoch 64/100, Accuracy: 97.67%\n",
            "Epoch 65/100, Accuracy: 97.96%\n",
            "Epoch 66/100, Accuracy: 97.96%\n",
            "Epoch 67/100, Accuracy: 97.96%\n",
            "Epoch 68/100, Accuracy: 97.77%\n",
            "Epoch 69/100, Accuracy: 98.07%\n",
            "Epoch 70/100, Accuracy: 97.92%\n",
            "Epoch 71/100, Accuracy: 98.10%\n",
            "Epoch 72/100, Accuracy: 98.54%\n",
            "Epoch 73/100, Accuracy: 97.56%\n",
            "Epoch 74/100, Accuracy: 98.39%\n",
            "Epoch 75/100, Accuracy: 98.36%\n",
            "Epoch 76/100, Accuracy: 98.10%\n",
            "Epoch 77/100, Accuracy: 98.25%\n",
            "Epoch 78/100, Accuracy: 98.29%\n",
            "Epoch 79/100, Accuracy: 98.29%\n",
            "Epoch 80/100, Accuracy: 97.92%\n",
            "Epoch 81/100, Accuracy: 97.92%\n",
            "Epoch 82/100, Accuracy: 98.36%\n",
            "Epoch 83/100, Accuracy: 98.36%\n",
            "Epoch 84/100, Accuracy: 98.21%\n",
            "Epoch 85/100, Accuracy: 98.65%\n",
            "Epoch 86/100, Accuracy: 97.96%\n",
            "Epoch 87/100, Accuracy: 98.25%\n",
            "Epoch 88/100, Accuracy: 98.54%\n",
            "Epoch 89/100, Accuracy: 98.25%\n",
            "Epoch 90/100, Accuracy: 98.43%\n",
            "Epoch 91/100, Accuracy: 98.25%\n",
            "Epoch 92/100, Accuracy: 98.47%\n",
            "Epoch 93/100, Accuracy: 98.54%\n",
            "Epoch 94/100, Accuracy: 98.43%\n",
            "Epoch 95/100, Accuracy: 98.50%\n",
            "Epoch 96/100, Accuracy: 98.47%\n",
            "Epoch 97/100, Accuracy: 98.80%\n",
            "Epoch 98/100, Accuracy: 98.94%\n",
            "Epoch 99/100, Accuracy: 98.47%\n",
            "Epoch 100/100, Accuracy: 98.58%\n",
            "Final Accuracy: 98.57716161984678\n"
          ]
        }
      ]
    },
    {
      "cell_type": "markdown",
      "source": [
        "2. Visualize the final misclassified images and Provide your conclusion."
      ],
      "metadata": {
        "id": "l1DyYNCHiKuM"
      }
    },
    {
      "cell_type": "code",
      "source": [
        "# Get predictions\n",
        "y_pred = decision_function(X, weights, bias)\n",
        "\n",
        "# Find misclassified indices\n",
        "misclassified_indices = np.where(y_pred != y)[0]\n",
        "\n",
        "# Plot first 10 misclassified images\n",
        "fig, axes = plt.subplots(2, 5, figsize=(10, 5))\n",
        "for i, idx in enumerate(misclassified_indices[:10]):\n",
        "    axes[i // 5, i % 5].imshow(X[idx].reshape(28, 28), cmap=\"gray\")\n",
        "    axes[i // 5, i % 5].set_title(f\"Pred: {y_pred[idx]}, Actual: {y[idx]}\")\n",
        "    axes[i // 5, i % 5].axis(\"off\")\n",
        "\n",
        "plt.suptitle(\"Misclassified Images\")\n",
        "plt.show()\n",
        "\n"
      ],
      "metadata": {
        "id": "7Mehb5pPiM6C",
        "colab": {
          "base_uri": "https://localhost:8080/",
          "height": 365
        },
        "outputId": "3732083f-8b92-4423-f511-27266f874d85"
      },
      "execution_count": 65,
      "outputs": [
        {
          "output_type": "display_data",
          "data": {
            "text/plain": [
              "<Figure size 1000x500 with 10 Axes>"
            ],
            "image/png": "[encoded data removed]"
          },
          "metadata": {}
        }
      ]
    }
  ]
}